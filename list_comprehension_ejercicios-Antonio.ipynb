{
  "cells": [
    {
      "cell_type": "markdown",
      "metadata": {
        "id": "qarRhk6IskJn"
      },
      "source": [
        "# Ejercicios de *list comprehension*                                                 -                                      Antonio Lorenzo Cano Jiménez"
      ]
    },
    {
      "cell_type": "markdown",
      "metadata": {
        "id": "gsrXQdRntAA4"
      },
      "source": [
        "## Ejercicio 1\n",
        "\n",
        "Crea una lista de los cuadrados de los primeros 10 números naturales.\n",
        "\n",
        "Salida esperada: `[0, 1, 4, 9, 16, 25, 36, 49, 64, 81]`"
      ]
    },
    {
      "cell_type": "code",
      "source": [
        "numeros = [x**2 for x in range (0,10)]\n",
        "print(numeros)"
      ],
      "metadata": {
        "colab": {
          "base_uri": "https://localhost:8080/"
        },
        "id": "_-Go7YqBtELo",
        "outputId": "57af5230-4631-488d-c66e-2618045aaed6"
      },
      "execution_count": null,
      "outputs": [
        {
          "output_type": "stream",
          "name": "stdout",
          "text": [
            "[0, 1, 4, 9, 16, 25, 36, 49, 64, 81]\n"
          ]
        }
      ]
    },
    {
      "cell_type": "markdown",
      "metadata": {
        "id": "odZpCzBstgso"
      },
      "source": [
        "## Ejercicio 2\n",
        "\n",
        "Crea una lista de los números pares del 0 al 20.\n",
        "\n",
        "Salida esperada: `[0, 2, 4, 6, 8, 10, 12, 14, 16, 18, 20]`"
      ]
    },
    {
      "cell_type": "code",
      "source": [
        "numerosPares = [num for num in range(0,22) if num % 2 == 0]\n",
        "print(numerosPares)"
      ],
      "metadata": {
        "colab": {
          "base_uri": "https://localhost:8080/"
        },
        "id": "nEHqvCS0tajz",
        "outputId": "0f18172d-755a-49e3-9795-6d5bab1ec4d4"
      },
      "execution_count": null,
      "outputs": [
        {
          "output_type": "stream",
          "name": "stdout",
          "text": [
            "[0, 2, 4, 6, 8, 10, 12, 14, 16, 18, 20]\n"
          ]
        }
      ]
    },
    {
      "cell_type": "markdown",
      "metadata": {
        "id": "KqhFy9719AXv"
      },
      "source": [
        "## Ejercicio 3\n",
        "\n",
        "Pasa todas las palabras de una lista a mayúsculas.\n",
        "\n",
        "### Ejemplo:\n",
        "\n",
        "Entrada: `['siete', 'caballos', 'vienen', 'de', 'bonanza']`\n",
        "\n",
        "Salida esperada: `['SIETE', 'CABALLOS', 'VIENEN', 'DE', 'BONANZA']`\n"
      ]
    },
    {
      "cell_type": "code",
      "source": [
        "minusculas = ['siete', 'caballos', 'vienen', 'de', 'boananza']\n",
        "mayusculas = [palabra.upper() for palabra in minusculas]\n",
        "print(mayusculas)"
      ],
      "metadata": {
        "colab": {
          "base_uri": "https://localhost:8080/"
        },
        "id": "Y7CNaHU9uGnV",
        "outputId": "f27c0f60-cd74-4c80-cd77-bb26f2a42a88"
      },
      "execution_count": 2,
      "outputs": [
        {
          "output_type": "stream",
          "name": "stdout",
          "text": [
            "['SIETE', 'CABALLOS', 'VIENEN', 'DE', 'BOANANZA']\n"
          ]
        }
      ]
    },
    {
      "cell_type": "markdown",
      "metadata": {
        "id": "AnCaDd0WJD2c"
      },
      "source": [
        "## Ejercicio 4\n",
        "\n",
        "Crea una lista de todos los números positivos múltiplos de 5 menores que 100.\n",
        "\n",
        "Salida esperada: `[0, 5, 10, 15, 20, 25, 30, 35, 40, 45, 50, 55, 60, 65, 70, 75, 80, 85, 90, 95]`"
      ]
    },
    {
      "cell_type": "code",
      "source": [
        "multiplos_de_5 = [num for num in range(0,105) if(num%5==0)]\n",
        "print(multiplos_de_5)"
      ],
      "metadata": {
        "colab": {
          "base_uri": "https://localhost:8080/"
        },
        "id": "wWlqrY_ywUkq",
        "outputId": "e30f134d-d2f7-41ee-8d10-832b3b4ae1ec"
      },
      "execution_count": 4,
      "outputs": [
        {
          "output_type": "stream",
          "name": "stdout",
          "text": [
            "[0, 5, 10, 15, 20, 25, 30, 35, 40, 45, 50, 55, 60, 65, 70, 75, 80, 85, 90, 95, 100]\n"
          ]
        }
      ]
    },
    {
      "cell_type": "markdown",
      "metadata": {
        "id": "wlkqMfPc9C9I"
      },
      "source": [
        "## Ejercicio 5\n",
        "\n",
        "Crea una lista con las raíces cuadradas de los números pares del 0 al 20. Los números se deben mostrar redondeados con dos decimales.\n",
        "\n",
        "Salida esperada: `[0.0, 1.41, 2.0, 2.45, 2.83, 3.16, 3.46, 3.74, 4.0, 4.24, 4.47]`"
      ]
    },
    {
      "cell_type": "markdown",
      "source": [],
      "metadata": {
        "id": "umSWj1Cgvar0"
      }
    },
    {
      "cell_type": "code",
      "source": [
        "import math\n",
        "\n",
        "raices = [round(math.sqrt(num), 2) for num in range(0, 21) if num % 2 == 0]\n",
        "print(raices)"
      ],
      "metadata": {
        "colab": {
          "base_uri": "https://localhost:8080/"
        },
        "id": "Ee0bhH51xLnI",
        "outputId": "2f661911-12a2-44c4-d06f-bddc2e0223a3"
      },
      "execution_count": 10,
      "outputs": [
        {
          "output_type": "stream",
          "name": "stdout",
          "text": [
            "[0.0, 1.41, 2.0, 2.45, 2.83, 3.16, 3.46, 3.74, 4.0, 4.24, 4.47]\n"
          ]
        }
      ]
    },
    {
      "cell_type": "markdown",
      "metadata": {
        "id": "0_wW83IdJm1Q"
      },
      "source": [
        "\n",
        "## Ejercicio 6\n",
        "\n",
        "Filtra una lista para obtener los números positivos.\n",
        "\n",
        "### Ejemplo:\n",
        "\n",
        "Entrada: `[0, -1, 2, -3, 4, -5]`\n",
        "\n",
        "Salida esperada: `[0, 2, 4]`"
      ]
    },
    {
      "cell_type": "code",
      "source": [
        "numeros = [0,-1,2,-3,4,-5]\n",
        "numeros_positivos = [num for num in numeros if(num>=0)]\n",
        "print(numeros_positivos)"
      ],
      "metadata": {
        "colab": {
          "base_uri": "https://localhost:8080/"
        },
        "id": "7TlKj8eI6u4D",
        "outputId": "0283f37b-cea6-402e-83cd-f56f62526e35"
      },
      "execution_count": 13,
      "outputs": [
        {
          "output_type": "stream",
          "name": "stdout",
          "text": [
            "[0, 2, 4]\n"
          ]
        }
      ]
    },
    {
      "cell_type": "markdown",
      "metadata": {
        "id": "hdeZBg33Jn4Z"
      },
      "source": [
        "## Ejercicio 7\n",
        "\n",
        "Concatena palabras de una lista excluyendo las que contienen menos de 3 letras.\n",
        "\n",
        "### Ejemplo:\n",
        "\n",
        "Entrada: `['Yo', 'estoy', 'aprendiendo', 'mucho', 'en', 'el', 'curso', 'de', 'C', 'y', 'Python']`\n",
        "\n",
        "Salida esperada: `'estoy aprendiendo mucho curso Python'`\n",
        "\n",
        "Pista: el método `join()` permite unir las cadenas de caracteres que contiene una lista en una sola cadena."
      ]
    },
    {
      "cell_type": "code",
      "source": [
        "palabras = ['Yo', 'estoy', 'aprendiendo', 'mucho', 'en', 'el', 'curso', 'de', 'C', 'y', 'Python']\n",
        "salida = [\" \".join(palabra for palabra in palabras if(len(palabra)>3))]\n",
        "print(salida)"
      ],
      "metadata": {
        "colab": {
          "base_uri": "https://localhost:8080/"
        },
        "id": "bi1fqbwS8oT0",
        "outputId": "6aea0c9e-e8d1-424c-8dd4-010bc8dffac8"
      },
      "execution_count": 16,
      "outputs": [
        {
          "output_type": "stream",
          "name": "stdout",
          "text": [
            "['estoy aprendiendo mucho curso Python']\n"
          ]
        }
      ]
    },
    {
      "cell_type": "markdown",
      "metadata": {
        "id": "1WCyIDZRJIp8"
      },
      "source": [
        "## Ejercicio 8\n",
        "\n",
        "Crear una lista con los valores de un diccionario donde la clave sea un número par.\n",
        "\n",
        "### Ejemplo\n",
        "\n",
        "Entrada: `{1: 'uno', 2: 'dos', 3: 'tres', 4: 'cuatro'}`\n",
        "\n",
        "Salida esperada: `['dos', 'cuatro']`\n",
        "\n",
        "Pistas:\n",
        "\n",
        "* El método `items()` aplicado a un diccionario, genera una lista de tuplas que son parejas `(clave, valor)`\n",
        "\n",
        "* Una lista de tuplas se puede recorrer con un `for`. Si las tuplas son de dos elementos, se especifican dos variables en ese `for` para ir extrayendo los valores."
      ]
    },
    {
      "cell_type": "code",
      "source": [
        "diccionario = dict([(1, 'uno'),(2, 'dos'), (3, 'tres'),(4,'cuatro')])\n",
        "diccionario_par = {clave: valor for clave, valor in diccionario.items() if clave % 2 == 0}\n",
        "print(diccionario_par.values())"
      ],
      "metadata": {
        "colab": {
          "base_uri": "https://localhost:8080/"
        },
        "id": "nSZeXp3FNXZ_",
        "outputId": "fd27f7ff-9e92-4889-e8aa-8fa4780f7561"
      },
      "execution_count": 26,
      "outputs": [
        {
          "output_type": "stream",
          "name": "stdout",
          "text": [
            "dict_values(['dos', 'cuatro'])\n"
          ]
        }
      ]
    },
    {
      "cell_type": "markdown",
      "metadata": {
        "id": "RasSg1P2KjUA"
      },
      "source": [
        "## Ejercicio 9\n",
        "\n",
        "Convierte una lista de cadenas de caracteres a enteros, excluyendo cualquier cadena que no represente un número.\n",
        "\n",
        "### Ejemplo\n",
        "\n",
        "Entrada: `['1', '2', 'tres', '4', 'cinco']`\n",
        "\n",
        "Salida esperada: `[1, 2, 4]`\n",
        "\n",
        "Pista: existe un método con un nombre bastante obvio que, aplicado a una cadena de caracteres, devuelve verdadero si esa cadena se puede convertir en número."
      ]
    },
    {
      "cell_type": "code",
      "source": [
        "from pickle import STRING\n",
        "numeros_strings = ['1','2','tres','4','cinco',1]\n",
        "numeros_filtrados = [numero for numero in numeros_strings if(isinstance(numero,str) and numero.isdigit())]\n",
        "print(numeros_filtrados)"
      ],
      "metadata": {
        "colab": {
          "base_uri": "https://localhost:8080/"
        },
        "id": "r6D2ICSLPo5w",
        "outputId": "6c42e3dc-5d6b-4d48-b63f-b38e35ccfe17"
      },
      "execution_count": 27,
      "outputs": [
        {
          "output_type": "stream",
          "name": "stdout",
          "text": [
            "['1', '2', '4']\n"
          ]
        }
      ]
    },
    {
      "cell_type": "markdown",
      "metadata": {
        "id": "nPubHvB8KqoX"
      },
      "source": [
        "## Ejercicio 10\n",
        "\n",
        "Filtra una lista de palabras de tal forma que se extraigan todas las que contienen una letra determinada, por ejemplo la 'a'.\n",
        "\n",
        "### Ejemplo\n",
        "\n",
        "Entrada: `['casa', 'ordenador', 'rosco', 'deporte', 'cereza', 'moto']`\n",
        "\n",
        "Salida esperada: `['casa', 'ordenador', 'cereza']`"
      ]
    },
    {
      "cell_type": "code",
      "source": [
        "palabras_sin_filtrar = ['casa', 'ordenador', 'rosco', 'deporte', 'cereza', 'moto']\n",
        "palabras_filtradas = [palabra for palabra in palabras_sin_filtrar if('a' in palabra)]\n",
        "print(palabras_filtradas)"
      ],
      "metadata": {
        "colab": {
          "base_uri": "https://localhost:8080/"
        },
        "id": "tyO7jSt_W14D",
        "outputId": "e5fa6fbd-a89f-4fa4-b386-e943767fb93e"
      },
      "execution_count": 20,
      "outputs": [
        {
          "output_type": "stream",
          "name": "stdout",
          "text": [
            "['casa', 'ordenador', 'cereza']\n"
          ]
        }
      ]
    },
    {
      "cell_type": "markdown",
      "metadata": {
        "id": "OPzvYHWRKueM"
      },
      "source": [
        "## Ejercicio 11\n",
        "\n",
        "Obtén los elementos únicos de una lista.\n",
        "\n",
        "### Ejemplo\n",
        "\n",
        "Entrada: `[1, 2, 2, 3, 4, 3, 5]`\n",
        "\n",
        "Salida esperada: `[1, 2, 3, 4, 5]`\n",
        "\n",
        "Pista: `enumerate(lista)` permite extraer con un `for` tanto el valor como un contador que comienza en `0`."
      ]
    },
    {
      "cell_type": "code",
      "source": [
        "numeros_sin_filtrar = [1,2,2,3,4,3,5]\n",
        "numeros_filtrados = []\n",
        "[numeros_filtrados.append(n) for n in numeros_sin_filtrar if n not in numeros_filtrados]\n",
        "print(numeros_filtrados)"
      ],
      "metadata": {
        "colab": {
          "base_uri": "https://localhost:8080/"
        },
        "id": "ka9pMFI3SWSv",
        "outputId": "8847a250-edab-4b1d-fe78-a0c76c036df5"
      },
      "execution_count": 25,
      "outputs": [
        {
          "output_type": "stream",
          "name": "stdout",
          "text": [
            "[1, 2, 3, 4, 5]\n"
          ]
        }
      ]
    },
    {
      "cell_type": "markdown",
      "metadata": {
        "id": "EQ-gvAJiMVM_"
      },
      "source": [
        "## Ejercicio 12\n",
        "\n",
        "Filtra una lista de nombres de tal forma que se saquen los que empiezan por vocal.\n",
        "\n",
        "### Ejemplo\n",
        "\n",
        "Entrada: `['José', 'Ana', 'Antonio', 'Pedro', 'David', 'Eva', 'Ada']`\n",
        "\n",
        "Salida esperada: `['Ana', 'Antonio', 'Eva', 'Ada']`"
      ]
    },
    {
      "cell_type": "code",
      "source": [
        "nombres = ['José', 'Ana', 'Antonio', 'Pedro', 'David', 'Eva', 'Ada']\n",
        "nombres_filtrados = [nombre for nombre in nombres if(nombre[0] == 'A') or (nombre[0]=='O') or (nombre[0] == \"U\") or nombre[0]==\"I\" or nombre[0]=='E']\n",
        "print(nombres_filtrados)"
      ],
      "metadata": {
        "colab": {
          "base_uri": "https://localhost:8080/"
        },
        "id": "3WVL8wCuQ8LX",
        "outputId": "45829c4a-d30b-4551-e220-a2276d559af2"
      },
      "execution_count": 24,
      "outputs": [
        {
          "output_type": "stream",
          "name": "stdout",
          "text": [
            "['Ana', 'Antonio', 'Eva', 'Ada']\n"
          ]
        }
      ]
    }
  ],
  "metadata": {
    "colab": {
      "provenance": []
    },
    "kernelspec": {
      "display_name": "Python 3",
      "name": "python3"
    },
    "language_info": {
      "name": "python"
    }
  },
  "nbformat": 4,
  "nbformat_minor": 0
}