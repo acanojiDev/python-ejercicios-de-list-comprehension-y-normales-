{
  "cells": [
    {
      "cell_type": "markdown",
      "metadata": {
        "id": "qarRhk6IskJn"
      },
      "source": [
        "# Ejercicios de *list comprehension*                                                 -                                      Antonio Lorenzo Cano Jiménez"
      ]
    },
    {
      "cell_type": "markdown",
      "metadata": {
        "id": "gsrXQdRntAA4"
      },
      "source": [
        "## Ejercicio 1\n",
        "\n",
        "Crea una lista de los cuadrados de los primeros 10 números naturales.\n",
        "\n",
        "Salida esperada: `[0, 1, 4, 9, 16, 25, 36, 49, 64, 81]`"
      ]
    },
    {
      "cell_type": "code",
      "source": [
        "numeros = [x**2 for x in range (0,10)]\n",
        "print(numeros)"
      ],
      "metadata": {
        "colab": {
          "base_uri": "https://localhost:8080/"
        },
        "id": "_-Go7YqBtELo",
        "outputId": "57af5230-4631-488d-c66e-2618045aaed6"
      },
      "execution_count": 2,
      "outputs": [
        {
          "output_type": "stream",
          "name": "stdout",
          "text": [
            "[0, 1, 4, 9, 16, 25, 36, 49, 64, 81]\n"
          ]
        }
      ]
    },
    {
      "cell_type": "markdown",
      "metadata": {
        "id": "odZpCzBstgso"
      },
      "source": [
        "## Ejercicio 2\n",
        "\n",
        "Crea una lista de los números pares del 0 al 20.\n",
        "\n",
        "Salida esperada: `[0, 2, 4, 6, 8, 10, 12, 14, 16, 18, 20]`"
      ]
    },
    {
      "cell_type": "code",
      "source": [
        "numerosPares = [num%2==0 for num in range(0,20)]\n",
        "print(numerosPares)"
      ],
      "metadata": {
        "colab": {
          "base_uri": "https://localhost:8080/"
        },
        "id": "nEHqvCS0tajz",
        "outputId": "451902f6-5e87-49bc-b338-17f7c99ac6bb"
      },
      "execution_count": 7,
      "outputs": [
        {
          "output_type": "stream",
          "name": "stdout",
          "text": [
            "[True, False, True, False, True, False, True, False, True, False, True, False, True, False, True, False, True, False, True, False]\n"
          ]
        }
      ]
    },
    {
      "cell_type": "markdown",
      "metadata": {
        "id": "KqhFy9719AXv"
      },
      "source": [
        "## Ejercicio 3\n",
        "\n",
        "Pasa todas las palabras de una lista a mayúsculas.\n",
        "\n",
        "### Ejemplo:\n",
        "\n",
        "Entrada: `['siete', 'caballos', 'vienen', 'de', 'bonanza']`\n",
        "\n",
        "Salida esperada: `['SIETE', 'CABALLOS', 'VIENEN', 'DE', 'BONANZA']`\n"
      ]
    },
    {
      "cell_type": "code",
      "source": [
        "minusculas = ['siete', 'caballos', 'vienen', 'de', 'boananza']\n",
        "mayusculas = []\n",
        "for palabra in minusculas:\n",
        "    _mayuscula = palabra.upper()\n",
        "    mayusculas.append(_mayuscula)\n",
        "print(mayusculas)"
      ],
      "metadata": {
        "colab": {
          "base_uri": "https://localhost:8080/"
        },
        "id": "Y7CNaHU9uGnV",
        "outputId": "c2a18170-bd7c-46dd-d8d4-b72f89938a22"
      },
      "execution_count": 21,
      "outputs": [
        {
          "output_type": "stream",
          "name": "stdout",
          "text": [
            "['SIETE', 'CABALLOS', 'VIENEN', 'DE', 'BOANANZA']\n"
          ]
        }
      ]
    },
    {
      "cell_type": "markdown",
      "metadata": {
        "id": "AnCaDd0WJD2c"
      },
      "source": [
        "## Ejercicio 4\n",
        "\n",
        "Crea una lista de todos los números positivos múltiplos de 5 menores que 100.\n",
        "\n",
        "Salida esperada: `[0, 5, 10, 15, 20, 25, 30, 35, 40, 45, 50, 55, 60, 65, 70, 75, 80, 85, 90, 95]`"
      ]
    },
    {
      "cell_type": "code",
      "source": [
        "multiplos_de_5 = []\n",
        "for x in range (0,100):\n",
        "  if(x%5==0):\n",
        "    multiplos_de_5.append(x)\n",
        "print(multiplos_de_5)"
      ],
      "metadata": {
        "colab": {
          "base_uri": "https://localhost:8080/"
        },
        "id": "wWlqrY_ywUkq",
        "outputId": "31584fc2-c247-41b0-9749-7efe6b7eaffe"
      },
      "execution_count": 24,
      "outputs": [
        {
          "output_type": "stream",
          "name": "stdout",
          "text": [
            "[0, 5, 10, 15, 20, 25, 30, 35, 40, 45, 50, 55, 60, 65, 70, 75, 80, 85, 90, 95]\n"
          ]
        }
      ]
    },
    {
      "cell_type": "markdown",
      "metadata": {
        "id": "wlkqMfPc9C9I"
      },
      "source": [
        "## Ejercicio 5\n",
        "\n",
        "Crea una lista con las raíces cuadradas de los números pares del 0 al 20. Los números se deben mostrar redondeados con dos decimales.\n",
        "\n",
        "Salida esperada: `[0.0, 1.41, 2.0, 2.45, 2.83, 3.16, 3.46, 3.74, 4.0, 4.24, 4.47]`"
      ]
    },
    {
      "cell_type": "code",
      "source": [
        "import math\n",
        "\n",
        "raices = []\n",
        "for x in range (0,21):\n",
        "  if(x%2==0):\n",
        "    raices.append(round(math.sqrt(x),2))\n",
        "print(raices)"
      ],
      "metadata": {
        "colab": {
          "base_uri": "https://localhost:8080/"
        },
        "id": "Ee0bhH51xLnI",
        "outputId": "f2daa8ed-d575-4e68-a5b1-fa4b6f5f5c98"
      },
      "execution_count": 29,
      "outputs": [
        {
          "output_type": "stream",
          "name": "stdout",
          "text": [
            "[0.0, 1.41, 2.0, 2.45, 2.83, 3.16, 3.46, 3.74, 4.0, 4.24, 4.47]\n"
          ]
        }
      ]
    },
    {
      "cell_type": "markdown",
      "metadata": {
        "id": "0_wW83IdJm1Q"
      },
      "source": [
        "\n",
        "## Ejercicio 6\n",
        "\n",
        "Filtra una lista para obtener los números positivos.\n",
        "\n",
        "### Ejemplo:\n",
        "\n",
        "Entrada: `[0, -1, 2, -3, 4, -5]`\n",
        "\n",
        "Salida esperada: `[0, 2, 4]`"
      ]
    },
    {
      "cell_type": "code",
      "source": [
        "numeros = [0,-1,2,-3,4,-5]\n",
        "numeros_positivos = []\n",
        "for x in range (len(numeros)):\n",
        "    if(numeros[x]>=0):\n",
        "      numeros_positivos.append(numeros[x])\n",
        "print(numeros_positivos)"
      ],
      "metadata": {
        "colab": {
          "base_uri": "https://localhost:8080/"
        },
        "id": "7TlKj8eI6u4D",
        "outputId": "2718a484-8d65-4bd0-f5a4-d3015a9cb281"
      },
      "execution_count": 35,
      "outputs": [
        {
          "output_type": "stream",
          "name": "stdout",
          "text": [
            "[0, 2, 4]\n"
          ]
        }
      ]
    },
    {
      "cell_type": "markdown",
      "metadata": {
        "id": "hdeZBg33Jn4Z"
      },
      "source": [
        "## Ejercicio 7\n",
        "\n",
        "Concatena palabras de una lista excluyendo las que contienen menos de 3 letras.\n",
        "\n",
        "### Ejemplo:\n",
        "\n",
        "Entrada: `['Yo', 'estoy', 'aprendiendo', 'mucho', 'en', 'el', 'curso', 'de', 'C', 'y', 'Python']`\n",
        "\n",
        "Salida esperada: `'estoy aprendiendo mucho curso Python'`\n",
        "\n",
        "Pista: el método `join()` permite unir las cadenas de caracteres que contiene una lista en una sola cadena."
      ]
    },
    {
      "cell_type": "code",
      "source": [
        "palabras = ['Yo', 'estoy', 'aprendiendo', 'mucho', 'en', 'el', 'curso', 'de', 'C', 'y', 'Python']\n",
        "salida = []\n",
        "for palabra in palabras:\n",
        "  if len(palabra)>3:\n",
        "    salida.append(palabra)\n",
        "salida = \" \".join(salida)\n",
        "print(salida)\n"
      ],
      "metadata": {
        "colab": {
          "base_uri": "https://localhost:8080/"
        },
        "id": "bi1fqbwS8oT0",
        "outputId": "1e61f64d-7869-43ea-d4bf-b59e1c369057"
      },
      "execution_count": 51,
      "outputs": [
        {
          "output_type": "stream",
          "name": "stdout",
          "text": [
            "estoy aprendiendo mucho curso Python\n"
          ]
        }
      ]
    },
    {
      "cell_type": "markdown",
      "metadata": {
        "id": "1WCyIDZRJIp8"
      },
      "source": [
        "## Ejercicio 8\n",
        "\n",
        "Crear una lista con los valores de un diccionario donde la clave sea un número par.\n",
        "\n",
        "### Ejemplo\n",
        "\n",
        "Entrada: `{1: 'uno', 2: 'dos', 3: 'tres', 4: 'cuatro'}`\n",
        "\n",
        "Salida esperada: `['dos', 'cuatro']`\n",
        "\n",
        "Pistas:\n",
        "\n",
        "* El método `items()` aplicado a un diccionario, genera una lista de tuplas que son parejas `(clave, valor)`\n",
        "\n",
        "* Una lista de tuplas se puede recorrer con un `for`. Si las tuplas son de dos elementos, se especifican dos variables en ese `for` para ir extrayendo los valores."
      ]
    },
    {
      "cell_type": "code",
      "source": [
        "diccionario = dict([(1, 'uno'),(2, 'dos'), (3, 'tres'),(4,'cuatro')])\n",
        "vista_items = diccionario.items()\n",
        "diccionario_par = dict([])\n",
        "for clave, valor in vista_items:\n",
        "  if(clave%2==0):\n",
        "    diccionario_par.update({clave: valor})\n",
        "print(diccionario_par)\n",
        "print(diccionario_par.values())"
      ],
      "metadata": {
        "colab": {
          "base_uri": "https://localhost:8080/"
        },
        "id": "nSZeXp3FNXZ_",
        "outputId": "1dfb324e-5f1f-4064-c246-aa9572d5c493"
      },
      "execution_count": 61,
      "outputs": [
        {
          "output_type": "stream",
          "name": "stdout",
          "text": [
            "{2: 'dos', 4: 'cuatro'}\n",
            "dict_values(['dos', 'cuatro'])\n"
          ]
        }
      ]
    },
    {
      "cell_type": "markdown",
      "metadata": {
        "id": "RasSg1P2KjUA"
      },
      "source": [
        "## Ejercicio 9\n",
        "\n",
        "Convierte una lista de cadenas de caracteres a enteros, excluyendo cualquier cadena que no represente un número.\n",
        "\n",
        "### Ejemplo\n",
        "\n",
        "Entrada: `['1', '2', 'tres', '4', 'cinco']`\n",
        "\n",
        "Salida esperada: `[1, 2, 4]`\n",
        "\n",
        "Pista: existe un método con un nombre bastante obvio que, aplicado a una cadena de caracteres, devuelve verdadero si esa cadena se puede convertir en número."
      ]
    },
    {
      "cell_type": "code",
      "source": [
        "from pickle import STRING\n",
        "numeros_strings = ['1','2','tres','4','cinco',1]\n",
        "numeros_filtrados = []\n",
        "for numero in numeros_strings:\n",
        " if(isinstance(numero, str) and numero.isdigit()):\n",
        "    numeros_filtrados.append(numero)\n",
        "print(numeros_filtrados)"
      ],
      "metadata": {
        "colab": {
          "base_uri": "https://localhost:8080/"
        },
        "id": "r6D2ICSLPo5w",
        "outputId": "7a816232-0944-479e-ecdd-be1f1ab88d85"
      },
      "execution_count": 77,
      "outputs": [
        {
          "output_type": "stream",
          "name": "stdout",
          "text": [
            "['1', '2', '4']\n"
          ]
        }
      ]
    },
    {
      "cell_type": "markdown",
      "metadata": {
        "id": "nPubHvB8KqoX"
      },
      "source": [
        "## Ejercicio 10\n",
        "\n",
        "Filtra una lista de palabras de tal forma que se extraigan todas las que contienen una letra determinada, por ejemplo la 'a'.\n",
        "\n",
        "### Ejemplo\n",
        "\n",
        "Entrada: `['casa', 'ordenador', 'rosco', 'deporte', 'cereza', 'moto']`\n",
        "\n",
        "Salida esperada: `['casa', 'ordenador', 'cereza']`"
      ]
    },
    {
      "cell_type": "code",
      "source": [
        "palabras_sin_filtrar = ['casa', 'ordenador', 'rosco', 'deporte', 'cereza', 'moto']\n",
        "palabras_filtradas = []\n",
        "flag = False\n",
        "for palabra in palabras_sin_filtrar:\n",
        "  if('a'in palabra):\n",
        "    palabras_filtradas.append(palabra)\n",
        "print(palabras_filtradas)"
      ],
      "metadata": {
        "colab": {
          "base_uri": "https://localhost:8080/"
        },
        "id": "tyO7jSt_W14D",
        "outputId": "493709ed-68ae-4cd5-9ea8-b21055ba1f5f"
      },
      "execution_count": 66,
      "outputs": [
        {
          "output_type": "stream",
          "name": "stdout",
          "text": [
            "['casa', 'ordenador', 'cereza']\n"
          ]
        }
      ]
    },
    {
      "cell_type": "markdown",
      "metadata": {
        "id": "OPzvYHWRKueM"
      },
      "source": [
        "## Ejercicio 11\n",
        "\n",
        "Obtén los elementos únicos de una lista.\n",
        "\n",
        "### Ejemplo\n",
        "\n",
        "Entrada: `[1, 2, 2, 3, 4, 3, 5]`\n",
        "\n",
        "Salida esperada: `[1, 2, 3, 4, 5]`\n",
        "\n",
        "Pista: `enumerate(lista)` permite extraer con un `for` tanto el valor como un contador que comienza en `0`."
      ]
    },
    {
      "cell_type": "code",
      "source": [
        "numeros_sin_filtrar = [1,2,2,3,4,3,5]\n",
        "numeros_filtrados = []\n",
        "for numero in numeros_sin_filtrar:\n",
        "  if(numero not in numeros_filtrados):\n",
        "    numeros_filtrados.append(numero)\n",
        "print(numeros_filtrados)"
      ],
      "metadata": {
        "colab": {
          "base_uri": "https://localhost:8080/"
        },
        "id": "ka9pMFI3SWSv",
        "outputId": "ac9e57c0-cccd-488e-f767-dc553e680ab5"
      },
      "execution_count": 63,
      "outputs": [
        {
          "output_type": "stream",
          "name": "stdout",
          "text": [
            "[1, 2, 3, 4, 5]\n"
          ]
        }
      ]
    },
    {
      "cell_type": "markdown",
      "metadata": {
        "id": "EQ-gvAJiMVM_"
      },
      "source": [
        "## Ejercicio 12\n",
        "\n",
        "Filtra una lista de nombres de tal forma que se saquen los que empiezan por vocal.\n",
        "\n",
        "### Ejemplo\n",
        "\n",
        "Entrada: `['José', 'Ana', 'Antonio', 'Pedro', 'David', 'Eva', 'Ada']`\n",
        "\n",
        "Salida esperada: `['Ana', 'Antonio', 'Eva', 'Ada']`"
      ]
    },
    {
      "cell_type": "code",
      "source": [
        "nombres = ['José', 'Ana', 'Antonio', 'Pedro', 'David', 'Eva', 'Ada']\n",
        "nombres_filtrados = []\n",
        "for nombre in nombres:\n",
        "  if(nombre[0]=='A' or nombre[0] =='E' or nombre[0]=='I' or nombre[0]=='U' or nombre[0]=='O'):\n",
        "    nombres_filtrados.append(nombre)\n",
        "print(nombres_filtrados)"
      ],
      "metadata": {
        "colab": {
          "base_uri": "https://localhost:8080/"
        },
        "id": "3WVL8wCuQ8LX",
        "outputId": "ee88f7fe-105f-4f4d-a8fb-5df32c65e655"
      },
      "execution_count": 62,
      "outputs": [
        {
          "output_type": "stream",
          "name": "stdout",
          "text": [
            "['Ana', 'Antonio', 'Eva', 'Ada']\n"
          ]
        }
      ]
    }
  ],
  "metadata": {
    "colab": {
      "provenance": []
    },
    "kernelspec": {
      "display_name": "Python 3",
      "name": "python3"
    },
    "language_info": {
      "name": "python"
    }
  },
  "nbformat": 4,
  "nbformat_minor": 0
}